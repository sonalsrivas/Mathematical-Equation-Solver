{
  "nbformat": 4,
  "nbformat_minor": 0,
  "metadata": {
    "colab": {
      "name": "Corrected Main2.ipynb",
      "provenance": [],
      "include_colab_link": true
    },
    "kernelspec": {
      "name": "python3",
      "display_name": "Python 3"
    }
  },
  "cells": [
    {
      "cell_type": "markdown",
      "metadata": {
        "id": "view-in-github",
        "colab_type": "text"
      },
      "source": [
        "<a href=\"https://colab.research.google.com/github/sonalsrivas/Mathematical-Equation-Solver/blob/master/Corrected_Main2.ipynb\" target=\"_parent\"><img src=\"https://colab.research.google.com/assets/colab-badge.svg\" alt=\"Open In Colab\"/></a>"
      ]
    },
    {
      "cell_type": "code",
      "metadata": {
        "id": "vdOnET1q2VYB",
        "colab_type": "code",
        "colab": {
          "base_uri": "https://localhost:8080/",
          "height": 68
        },
        "outputId": "6953f095-33da-4fc7-b042-19a5b7b33fc8"
      },
      "source": [
        "import nltk\n",
        "nltk.download('punkt')"
      ],
      "execution_count": 3,
      "outputs": [
        {
          "output_type": "stream",
          "text": [
            "[nltk_data] Downloading package punkt to /root/nltk_data...\n",
            "[nltk_data]   Unzipping tokenizers/punkt.zip.\n"
          ],
          "name": "stdout"
        },
        {
          "output_type": "execute_result",
          "data": {
            "text/plain": [
              "True"
            ]
          },
          "metadata": {
            "tags": []
          },
          "execution_count": 3
        }
      ]
    },
    {
      "cell_type": "markdown",
      "metadata": {
        "id": "kOvuatB8GcBx",
        "colab_type": "text"
      },
      "source": [
        "# Changing the rules of identifying keyword for numerical data to be\n",
        " **only dependent on its unit**\n",
        "\n",
        " Because of conflicts in this smaple problem: *\"A train travels the first 15km at a uniform speed of 30km/h; the next 75km at a uniform speed of 50km/h. and the last 10km at a uniform speed of 20km/h. Calculate the average speed for the entire train journey.\"*"
      ]
    },
    {
      "cell_type": "code",
      "metadata": {
        "id": "zjMu2c3JvbI5",
        "colab_type": "code",
        "colab": {
          "base_uri": "https://localhost:8080/",
          "height": 479
        },
        "outputId": "abbce307-984e-466d-997e-63ccdb10f469"
      },
      "source": [
        "from nltk import word_tokenize as Nwt\n",
        "\n",
        "map_unit_UNIT=dict()\n",
        "map_UNIT_unit={'kmph':['kmph','km/h','km/hr'],'mps':['mps','m/s','m/sec'],'C':['celsius','centigrade','c','degree'],'F':['f','fahrenheit'],\n",
        "               'hour':['hour','hr'],'minute':['min','minute'],'second':['second','sec','s'],'day':['day'],'year':['year','yr'],\n",
        "               'meter':['m','meter','metre'],'kilometer':['kilometer','km'],}\n",
        "for vt in map_UNIT_unit:                                                         #this will save a little time\n",
        "  for ut in map_UNIT_unit[vt]:\n",
        "    map_unit_UNIT[ut]=vt\n",
        "#print(map_unit_UNIT)\n",
        "\n",
        "#map_unit_UNIT={'kmph':'kmph','km/h':'kmph','km/hr':'kmph',\n",
        "#              'mps':'mps','m/s':'mps','m/min':'mpm',\n",
        "#              'centigrade':'C','celsius':'C','degrees':'C','fahrenheit':'F'}\n",
        "\n",
        "\n",
        "map_VAR_UNIT={'speed':{'kmph','mps'},'temperature':{'C','F'}, 'time':{'hour','minute','second','day','year'},'distance':['meter','kilometer'] }\n",
        "#                                                                                                               !----------------!\n",
        "#DONE #you could have done this with code \n",
        "map_UNIT_VAR=dict() #{'kmph':'speed','mps':'speed','C':'temperature','F':'temperature'}\n",
        "for vt in map_VAR_UNIT:                                                         #this will save a little time\n",
        "  for ut in map_VAR_UNIT[vt]:\n",
        "    map_UNIT_VAR[ut]=vt\n",
        "#print(map_UNIT_VAR)\n",
        "\n",
        "map_VAR_var={'speed':{'velocity','speed'},'distance':{'distance','displacement','dist.'},'temparature':{'temparature'},'time':{'time'}}\n",
        "map_var_VAR=dict()\n",
        "for vt in map_VAR_var:                                                         #this will save a little time\n",
        "  for ut in map_VAR_var[vt]:\n",
        "    map_var_VAR[ut]=vt\n",
        "#print(map_var_VAR)\n",
        "\n",
        "\n",
        "\n",
        "\n",
        "\n",
        "\n",
        "''' cleans problem and splits in words '''\n",
        "def listproblem(string):\n",
        "  #s=remove_punctuations(string)\n",
        "  problem=Nwt(string)\n",
        "  for p in range(len(problem)):\n",
        "    if problem[p][-1]=='s' and problem[p][-2] not in 'aoui/':\n",
        "      problem[p]=problem[p][:-1]\n",
        "    #print(\"PROBLEM IN listproblem::\",problem)                                                         #\n",
        "  return problem\n",
        "\n",
        "''' TransformWords insures that: numeral data is separated from alphabetic data, like -24m/s is spaced; '''\n",
        "def TransformWords(s):\n",
        "  l=len(s); i=0\n",
        "  while i<l:\n",
        "    if s[i].isdigit() and s[i+1].isalpha():\n",
        "      s=s[:i+1]+' '+s[i+1:]\n",
        "    i+=1\n",
        "  return s\n",
        "\n",
        "''' convert string to integer numeral or decimal numeral '''\n",
        "def convert_numeral(word):\n",
        "  #print(word)\n",
        "  if '.' in word:\n",
        "    return float(word)\n",
        "  else:\n",
        "    return int(word)\n",
        "\n",
        "\n",
        "'''produces a list containing numerical data and its given unit in the problem. The unit is determined simply by the word next to the numerical value.'''\n",
        "def numeralunitList(problem):\n",
        "  now=len(problem)\n",
        "  numerical_data=[]                   #Of the form (id,numeral,unit,variable(optional))\n",
        "  i=0\n",
        "  while i<now:\n",
        "    word=problem[i]\n",
        "    i+=1\n",
        "    if word[0].isdigit():\n",
        "      assocUnit=problem[i]\n",
        "      if assocUnit[-1]=='.':\n",
        "        assocUnit=assocUnit[:-1]\n",
        "        problem[i]=problem[i][:-1]\n",
        "        problem.insert(i+1,' ')\n",
        "        now+=1\n",
        "      assocUnit=map_unit_UNIT[assocUnit]\n",
        "      numerical_data.append([i-1,convert_numeral(word),assocUnit])\n",
        "      i+=1\n",
        "  return numerical_data\n",
        "\n",
        "\n",
        "def var_associations(problem,numerical_data):\n",
        "  #check the words following and previuos to numeral is a keyword until 'and' or ',' or '.' appears\n",
        "  ## numerical_data has structure of list with elements like (index, numeral, unit)\n",
        "  ### we want another structure or will later modify numerical_data , that has (variable, numeral, unit) and maybe index as additional information\n",
        "  #==> VarNumUnit=[]\n",
        "  VarNumUnit=[]\n",
        "  for j in numerical_data:\n",
        "    l=len(problem)\n",
        "    VarNumUnit.append((map_UNIT_VAR[j[2]],j[1],j[2]))\n",
        "  return VarNumUnit\n",
        "\n",
        "\n",
        "\n",
        "\n",
        "string=input(\":Enter your word problem:\\n\").lower()\n",
        "while string!='':\n",
        "  string=TransformWords(string)\n",
        "  problem=listproblem(string)\n",
        "  numerical_data=numeralunitList(problem)\n",
        "  #print(\"Index, Numeral, Unit =>\",numerical_data)\n",
        "  #Answer=wordproblem(problem, numerical_data)\n",
        "  #print(Answer)\n",
        "  #print(\"The problem =>\",problem)\n",
        "  \n",
        "  Var_Num_Unit=var_associations(problem,numerical_data)\n",
        "  print(\"\\nKeyword, Numeral, Unit :\\n\",Var_Num_Unit)\n",
        "  \n",
        "  string=input(\"\\n:Enter your word problem:\\n\").lower()"
      ],
      "execution_count": 17,
      "outputs": [
        {
          "output_type": "stream",
          "text": [
            ":Enter your word problem:\n",
            "A ball hits a wall horizontally at 6m/s. It rebounds horizontally at 4.4m/s. The ball is in contact with the wall for 0.040 s. What is the acceleration of the ball?\n",
            "\n",
            "Keyword, Numeral, Unit :\n",
            " [('speed', 6, 'mps'), ('speed', 4.4, 'mps'), ('time', 0.04, 'second')]\n",
            "\n",
            ":Enter your word problem:\n",
            "If a sprinter runs a distance of 100 metres in 9.83 seconds, calculate his average speed in km/h.\n",
            "\n",
            "Keyword, Numeral, Unit :\n",
            " [('distance', 100, 'meter'), ('time', 9.83, 'second')]\n",
            "\n",
            ":Enter your word problem:\n",
            "A tortoise moves a distance of 100 m in 15 minutes. What is the average speed of tortoise in km/h?\n",
            "\n",
            "Keyword, Numeral, Unit :\n",
            " [('distance', 100, 'meter'), ('time', 15, 'minute')]\n",
            "\n",
            ":Enter your word problem:\n",
            "A train travels the first 15km at a uniform speed of 30km/h; the next 75km at a uniform speed of 50km/h. and the last 10km at a uniform speed of 20km/h. Calculate the average speed for the entire train journey.\n",
            "\n",
            "Keyword, Numeral, Unit :\n",
            " [('distance', 15, 'kilometer'), ('speed', 30, 'kmph'), ('distance', 75, 'kilometer'), ('speed', 50, 'kmph'), ('distance', 10, 'kilometer'), ('speed', 20, 'kmph')]\n",
            "\n",
            ":Enter your word problem:\n",
            "\n"
          ],
          "name": "stdout"
        }
      ]
    },
    {
      "cell_type": "code",
      "metadata": {
        "id": "4Nox6RDi2Y3-",
        "colab_type": "code",
        "colab": {}
      },
      "source": [
        ""
      ],
      "execution_count": 0,
      "outputs": []
    }
  ]
}