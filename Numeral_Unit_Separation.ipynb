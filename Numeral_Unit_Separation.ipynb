{
  "nbformat": 4,
  "nbformat_minor": 0,
  "metadata": {
    "colab": {
      "name": "Numeral Unit Separation.ipynb",
      "provenance": [],
      "include_colab_link": true
    },
    "kernelspec": {
      "name": "python3",
      "display_name": "Python 3"
    }
  },
  "cells": [
    {
      "cell_type": "markdown",
      "metadata": {
        "id": "view-in-github",
        "colab_type": "text"
      },
      "source": [
        "<a href=\"https://colab.research.google.com/github/sonalsrivas/Mathematical-Equation-Solver/blob/master/Numeral_Unit_Separation.ipynb\" target=\"_parent\"><img src=\"https://colab.research.google.com/assets/colab-badge.svg\" alt=\"Open In Colab\"/></a>"
      ]
    },
    {
      "cell_type": "code",
      "metadata": {
        "id": "sSowDjMVERdC",
        "colab_type": "code",
        "colab": {
          "base_uri": "https://localhost:8080/",
          "height": 255
        },
        "outputId": "3558d8e7-b248-42b6-b10f-7d8b68b30c25"
      },
      "source": [
        "#Program to\n",
        "#1 identify numeral data\n",
        "#2 seperate unit if not\n",
        "#3 identify unit\n",
        "def convert_numeral(word):\n",
        "  if '.' in word:\n",
        "    return float(word)\n",
        "  else:\n",
        "    return int(word)\n",
        "punctuators='.,:;\"#@!$^&*()_=<>?'\n",
        "string=input(\":Enter your word problem:\\n\").lower()\n",
        "while string!='':\n",
        "  s=''\n",
        "  for p in string:\n",
        "    if p not in punctuators:\n",
        "      s+=p\n",
        "  #string -> s with no punctuation marks\n",
        "  problem=s.split()\n",
        "  #s -> problem as list with each word as string element\n",
        "  now=len(problem)\n",
        "  word_operate=dict() #[]            #dictionary of index:num_word    #list of words that have numerical data\n",
        "  numerical_data=[]                   #Of the form (numeral,unit,variable(optional))\n",
        "  #iterprob=iter(problem)\n",
        "  rr=0\n",
        "  while rr<now-1:\n",
        "    #print(rr,now)\n",
        "    word=problem[rr]\n",
        "    rr+=1\n",
        "    #print(word)\n",
        "    if word.isdigit():\n",
        "      numerical_data.append((convert_numeral(word),problem[rr]))\n",
        "      rr+=1\n",
        "    elif word.isalpha():\n",
        "      continue\n",
        "    else:\n",
        "      first=True\n",
        "      nocharencountered=True\n",
        "      num=''\n",
        "      for c in word:\n",
        "        if first and c=='-':\n",
        "          num+=c; first=False\n",
        "        elif nocharencountered and (c.isdigit() or c=='.'):\n",
        "          num+=c; first=False; nocharencountered=True\n",
        "        elif c.isalpha():\n",
        "          nocharencountered=False\n",
        "          print(word)\n",
        "          numerical_data.append((convert_numeral(num),word[word.index(c):]))\n",
        "        else:\n",
        "          print(\"Kindly enter your word problem in a legible manner. Thank you.\")\n",
        "          exit(0)\n",
        "  print(numerical_data)\n",
        "  string=input(\"\\n:Enter your word problem:\\n\").lower()"
      ],
      "execution_count": 3,
      "outputs": [
        {
          "output_type": "stream",
          "text": [
            ":Enter your word problem:\n",
            "Convert 60 kmph to mps.\n",
            "[(60, 'kmph')]\n",
            "\n",
            ":Enter your word problem:\n",
            "Convert 40 centigrade to Fahrenheit.\n",
            "[(40, 'centigrade')]\n",
            "\n",
            ":Enter your word problem:\n",
            "What is the value of 30 degree in fahrenheit.\n",
            "[(30, 'degree')]\n",
            "\n",
            ":Enter your word problem:\n",
            "\n"
          ],
          "name": "stdout"
        }
      ]
    }
  ]
}