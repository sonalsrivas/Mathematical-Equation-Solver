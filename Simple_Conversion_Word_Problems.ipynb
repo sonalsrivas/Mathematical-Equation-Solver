{
  "nbformat": 4,
  "nbformat_minor": 0,
  "metadata": {
    "colab": {
      "name": "Simple Conversion Word Problems.ipynb",
      "provenance": [],
      "collapsed_sections": [],
      "include_colab_link": true
    },
    "kernelspec": {
      "name": "python3",
      "display_name": "Python 3"
    }
  },
  "cells": [
    {
      "cell_type": "markdown",
      "metadata": {
        "id": "view-in-github",
        "colab_type": "text"
      },
      "source": [
        "<a href=\"https://colab.research.google.com/github/sonalsrivas/Mathematical-Equation-Solver/blob/master/Simple_Conversion_Word_Problems.ipynb\" target=\"_parent\"><img src=\"https://colab.research.google.com/assets/colab-badge.svg\" alt=\"Open In Colab\"/></a>"
      ]
    },
    {
      "cell_type": "code",
      "metadata": {
        "id": "pdscr0IPVpPB",
        "colab_type": "code",
        "colab": {
          "base_uri": "https://localhost:8080/",
          "height": 673
        },
        "outputId": "446dc511-8e1f-414d-aa6b-0dee3978733a"
      },
      "source": [
        "def Convert_func(val,u1,u2):\n",
        "    if u1=='kmph' and u2=='mps':\n",
        "        return val*5/18\n",
        "    elif u1=='C' and u2=='F':\n",
        "        return val*9/5+32\n",
        "#Program for solving problems of type convert\n",
        "#one numeric value\n",
        "#original form\n",
        "#to convert into form\n",
        "#assuming such problems always begin with 'convert'\n",
        "\n",
        "#space has no information to cater therefore we store problem as a list of words in the word problem\n",
        "problem=input(\":Enter your word problem:\\n\").lower().split()\n",
        "while problem!='':\n",
        "  now=len(problem)\n",
        "  if 'convert' in problem:\n",
        "      #Yeah so the problem given is the intended according to current assumptions\n",
        "      #Find numeral\n",
        "      k=0\n",
        "      for i in problem:\n",
        "          if i.isdigit():\n",
        "              if '.' in i:\n",
        "                  numeral=float(i)\n",
        "              else:\n",
        "                  numeral=int(i)\n",
        "              break\n",
        "          k+=1\n",
        "      #Original Unit(given)\n",
        "      original_unit=problem[k+1]\n",
        "      for j in range(k,now):\n",
        "          if problem[j]=='to':\n",
        "              convert_to=problem[j+1]\n",
        "              break\n",
        "      #We have unit to convert to in string\n",
        "\n",
        "      #We will have to map particular units in variables and we will have several unit synonyms pointing to the same variable\n",
        "      #This is becoz in here we have the units as our variables themselves.\n",
        "\n",
        "      map_Unit_Var={'kmph':'kmph','km/h':'kmph','km/hr':'kmph',\n",
        "                    'mps':'mps','m/s':'mps',\n",
        "                    'centigrade':'C','celsius':'C','degrees':'C','fahrenheit':'F'}\n",
        "      val=numeral; u1=map_Unit_Var[original_unit]; u2=map_Unit_Var[convert_to]\n",
        "      print(Convert_func(val,u1,u2))\n",
        "      problem=input(\"\\n:Enter your word problem:\\n\").lower().split()\n"
      ],
      "execution_count": 5,
      "outputs": [
        {
          "output_type": "stream",
          "text": [
            ":Enter your word problem:\n",
            "Convert 60 kmph to mps\n",
            "16.666666666666668\n",
            "\n",
            ":Enter your word problem:\n",
            "Convert 40 centigrade to Fahrenheit\n",
            "104.0\n",
            "\n",
            ":Enter your word problem:\n",
            "Convert 40 degrees to fahrenheit\n",
            "104.0\n",
            "\n",
            ":Enter your word problem:\n",
            "Convert 20 celsius to Fahrenheit\n",
            "68.0\n",
            "\n",
            ":Enter your word problem:\n",
            "Convert 527 km/h to m/s\n",
            "146.38888888888889\n",
            "\n",
            ":Enter your word problem:\n",
            "Convert 91 km/hr to mps\n",
            "25.27777777777778\n",
            "\n",
            ":Enter your word problem:\n",
            "\n"
          ],
          "name": "stdout"
        },
        {
          "output_type": "error",
          "ename": "KeyboardInterrupt",
          "evalue": "ignored",
          "traceback": [
            "\u001b[0;31m---------------------------------------------------------------------------\u001b[0m",
            "\u001b[0;31mKeyboardInterrupt\u001b[0m                         Traceback (most recent call last)",
            "\u001b[0;32m<ipython-input-5-b6b86c560d0d>\u001b[0m in \u001b[0;36m<module>\u001b[0;34m()\u001b[0m\n\u001b[1;32m     14\u001b[0m \u001b[0;32mwhile\u001b[0m \u001b[0mproblem\u001b[0m\u001b[0;34m!=\u001b[0m\u001b[0;34m''\u001b[0m\u001b[0;34m:\u001b[0m\u001b[0;34m\u001b[0m\u001b[0;34m\u001b[0m\u001b[0m\n\u001b[1;32m     15\u001b[0m   \u001b[0mnow\u001b[0m\u001b[0;34m=\u001b[0m\u001b[0mlen\u001b[0m\u001b[0;34m(\u001b[0m\u001b[0mproblem\u001b[0m\u001b[0;34m)\u001b[0m\u001b[0;34m\u001b[0m\u001b[0;34m\u001b[0m\u001b[0m\n\u001b[0;32m---> 16\u001b[0;31m   \u001b[0;32mif\u001b[0m \u001b[0;34m'convert'\u001b[0m \u001b[0;32min\u001b[0m \u001b[0mproblem\u001b[0m\u001b[0;34m:\u001b[0m\u001b[0;34m\u001b[0m\u001b[0;34m\u001b[0m\u001b[0m\n\u001b[0m\u001b[1;32m     17\u001b[0m       \u001b[0;31m#Yeah so the problem given is the intended according to current assumptions\u001b[0m\u001b[0;34m\u001b[0m\u001b[0;34m\u001b[0m\u001b[0;34m\u001b[0m\u001b[0m\n\u001b[1;32m     18\u001b[0m       \u001b[0;31m#Find numeral\u001b[0m\u001b[0;34m\u001b[0m\u001b[0;34m\u001b[0m\u001b[0;34m\u001b[0m\u001b[0m\n",
            "\u001b[0;31mKeyboardInterrupt\u001b[0m: "
          ]
        }
      ]
    }
  ]
}